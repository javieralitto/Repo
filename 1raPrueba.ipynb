{
  "nbformat": 4,
  "nbformat_minor": 0,
  "metadata": {
    "colab": {
      "name": "1raPrueba.ipynb",
      "provenance": [],
      "authorship_tag": "ABX9TyPwbCUusZvBeFBOa9COZgLW",
      "include_colab_link": true
    },
    "kernelspec": {
      "name": "python3",
      "display_name": "Python 3"
    }
  },
  "cells": [
    {
      "cell_type": "markdown",
      "metadata": {
        "id": "view-in-github",
        "colab_type": "text"
      },
      "source": [
        "<a href=\"https://colab.research.google.com/github/javieralitto/Repo/blob/master/1raPrueba.ipynb\" target=\"_parent\"><img src=\"https://colab.research.google.com/assets/colab-badge.svg\" alt=\"Open In Colab\"/></a>"
      ]
    },
    {
      "cell_type": "code",
      "metadata": {
        "id": "j52FDlEqf6NF",
        "colab_type": "code",
        "colab": {}
      },
      "source": [
        "# My fierts line: Hello 1raPueba."
      ],
      "execution_count": 1,
      "outputs": []
    }
  ]
}